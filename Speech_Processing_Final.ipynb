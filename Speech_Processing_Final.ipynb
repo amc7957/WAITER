{
 "cells": [
  {
   "cell_type": "markdown",
   "metadata": {},
   "source": [
    "# Current To-do"
   ]
  },
  {
   "cell_type": "code",
   "execution_count": 27,
   "metadata": {},
   "outputs": [],
   "source": [
    "#Convert waiter response text to speech\n",
    "#Handle edge cases of orders with multiple items in order"
   ]
  },
  {
   "cell_type": "code",
   "execution_count": null,
   "metadata": {
    "scrolled": true
   },
   "outputs": [],
   "source": [
    "#!pip install PySimpleGUI\n",
    "#!brew install portaudio\n",
    "#!pip install pyaudio"
   ]
  },
  {
   "cell_type": "code",
   "execution_count": null,
   "metadata": {},
   "outputs": [],
   "source": [
    "#PySimpleGUI code to remove trial sticker\n",
    "#evyiJNMYawWzNzlHbdnUNelCV5HMlSwFZHSTIn69IsksRRlxdtmTVzswb23aBnlJceiQIXsBIwkdx1pUYC2hVxuHcc2oVQJnRXCpIe62MTTGcWxQMazwko4JNBjIkU4mN3i3w1imTcGrlVj6ZwW15CzdZvUrRPlzcLG3xAv1eyWF1PlLbuntRJWQZmX6J9zyabW29LuyIaj4ojxUL9CpJSOqYWW719lWRMmVlTyScr3YQPirOhi4JLL1ZTXxZWpybwi0I0s4IikP5fhsbyWnVjMAYTXzNU04IXjhoSiwUmmV9stIZNXlJOvPIciwwGiwQZ2d9AtIc7GnFPuge7SRID6vIXi4IGsxIMkwNz1ocv3zRMvLbdWpVTy1SSUGQGiIOPigIoxeNrz3AR54O4SBIOsPINkGRzhydcGBVVJrcl32NB1QZMWCQgigOHilI8wqNJCY81yANWCr8TymMkDfIU0wIViQwei3RNGVFe0qZjU7VP41ciGul5ykZDXEMciPOiitIfwIN4Co8Ty3N5Cb8IyEMfDgIi1YIniqwYimRAWH1ehQaqWSxhB1ZtGORcyzZQX8NNzrIVj6omiddkGj9i4qaZWMtdqUdGWK1HwSZuX8JKAGZ32O1YhpaVWPwXu4Y02G9st0IPiYw6iXSFVYBWBCZgG7RfylZwXXN9zSIQjfoBiSMpTRIJ47LcjxIh04NsCF4L4nNeyK4oxqMwz6MwiwfZQp=4=i4fd25f8fcb735f076772a78dd383d2497b71da56396309271e367a07ad074a63707cd9dcb70063b776be467a3b44fae1ca3ce04d2d091597d8270cf2352c9005e317bd71e860891930d153fd8f9c9a52c3fca59871077c76682adbc0d49c4377096f65a0a1dc04cd767de184d3beac8db7d43849f9d4053b7ea22d246a58bcb3aa9e8ee239dbaab86460c53b9509d6f0a3b57c9ab577029b159c26ef7fc988f1e60d4ac81a831b9fdffac8a792da8d6d39cea4e6565ca0b7d7dbc13a6194c6cc9fcef3c6ef7cdae37dfe8c3f0b65393bffef17dd4debe34bba14361a2335dff72899e77d1e25529e1e513b4160adf5406a3bfd38afe165ccc4aa325797a4281d394412d8468cf5803487824178498f6a0ad498bfe0501cb12d5e2f60876a533e8cd8ad31f0ead1df2fadacab25438eb8b2af18cbe51bac3fc783a7d0e0b528ec2c31035d47afba7915070bad54a55f75b623fd004d1cefff44317d4e87f9f4ca22d5e82dade52b3dfc076ef83b05336ca6e141bfb716cf8efc6c701bc5d6a9ccc449a682bf88dad388dc3ffd34adb80f5bd4ec679646608586eb799732a3679039c326595911a5c2f2ed405881a2290d790811c1c9d745fcd05f1297463e91b291e3e41c5949d4597477451357ab38bdd7d002db4b2fd2e032adb7efc02ab526abac6fd265c957c2c2f3f5ab8654e793987264dc47ef11200e9a67b740faf711"
   ]
  },
  {
   "cell_type": "markdown",
   "metadata": {},
   "source": [
    "# GUI  "
   ]
  },
  {
   "cell_type": "code",
   "execution_count": 26,
   "metadata": {},
   "outputs": [
    {
     "name": "stdout",
     "output_type": "stream",
     "text": [
      "You said:  can i have a hamburger\n",
      "W.A.I.T.E.R:  You would like a hamburger, is that right?\n"
     ]
    }
   ],
   "source": [
    "import PySimpleGUI as sg\n",
    "import time\n",
    "\n",
    "menu = [\"steak\",\"hamburger\",\"chicken\"]\n",
    "\n",
    "def main():\n",
    "    \n",
    "    sg.theme('DarkBlue3')\n",
    "    sg.set_options(element_padding=(10, 10))\n",
    "    # Define the layout for the menu\n",
    "    layout = [\n",
    "        [sg.Text('Click \"Record\" when you are ready to order', justification='right')],\n",
    "        [sg.Text('1. Steak', justification='right')],\n",
    "        [sg.Text('2. Hamburger', justification='center')],\n",
    "        [sg.Text('3. Chicken', justification='right')],\n",
    "        [sg.Button('Record', size=(20, 1))],\n",
    "        [sg.Button('Exit', size=(20, 1))]\n",
    "    ]\n",
    "\n",
    "    # Create the PySimpleGUI window\n",
    "    window = sg.Window('Menu', layout, element_justification='c')\n",
    "\n",
    "    # Event loop\n",
    "    while True:\n",
    "        event, _ = window.read()\n",
    "\n",
    "        # Exit if the user closes the window or clicks the \"Exit\" button\n",
    "        if event == sg.WINDOW_CLOSED or event == 'Exit':\n",
    "            break\n",
    "\n",
    "        # Handle button clicks\n",
    "        if event == 'Steak':\n",
    "            example_function('Item 1')\n",
    "            sg.popup('Recording...')\n",
    "        elif event == 'Hamburger':\n",
    "            sg.popup('You selected Hamburger')\n",
    "        elif event == 'Chicken':\n",
    "            sg.popup('You selected Chicken')\n",
    "        elif event == 'Record':\n",
    "            #window['Record'].update('Recording...')\n",
    "            customer_order = speech_to_text()\n",
    "            print(\"You said: \", customer_order)\n",
    "\n",
    "            parsed_order = customer_order.split()\n",
    "            test = [i for i in parsed_order if i in menu]\n",
    "            waiter_response = \"You would like a {}, is that right?\".format(test[0])\n",
    "            print(\"W.A.I.T.E.R: \",waiter_response )\n",
    "\n",
    "            window['Record'].update('Record Again')\n",
    "\n",
    "        \n",
    "    # Close the window when the loop exits\n",
    "    window.close()\n",
    "\n",
    "main()"
   ]
  },
  {
   "cell_type": "code",
   "execution_count": 22,
   "metadata": {},
   "outputs": [],
   "source": [
    "import speech_recognition as sr\n",
    "from speech_recognition.recognizers import google, whisper\n",
    "import pyttsx3 \n",
    "def speech_to_text():\n",
    "    # use sr recognizer \n",
    "    r = sr.Recognizer() \n",
    "     \n",
    "    while(1):    \n",
    "\n",
    "        try:\n",
    "         \n",
    "        # initialize microphone\n",
    "            with sr.Microphone() as source2:\n",
    "             \n",
    "                # wait for ambient noise level to be adjusted\n",
    "                r.adjust_for_ambient_noise(source2, duration=0.2)\n",
    "             \n",
    "                # listen for speech\n",
    "                audio2 = r.listen(source2)\n",
    "             \n",
    "                # use google recognizer to figure out what\n",
    "                #was said\n",
    "                MyText = r.recognize_google(audio2)\n",
    "                MyText = MyText.lower()\n",
    "                return(MyText)\n",
    "             \n",
    "        except sr.RequestError as e:\n",
    "            print(\"Could not request results; {0}\".format(e))\n",
    "            break\n",
    "         \n",
    "        except sr.UnknownValueError:\n",
    "            print(\"unknown error occurred\")\n",
    "            break"
   ]
  },
  {
   "cell_type": "code",
   "execution_count": null,
   "metadata": {},
   "outputs": [],
   "source": []
  }
 ],
 "metadata": {
  "kernelspec": {
   "display_name": "venv",
   "language": "python",
   "name": "venv"
  },
  "language_info": {
   "name": "python",
   "version": ""
  }
 },
 "nbformat": 4,
 "nbformat_minor": 5
}